{
 "cells": [
  {
   "cell_type": "markdown",
   "metadata": {},
   "source": [
    "# Task B: Stack Overflow Developer Survey 2025 Analytics\n",
    "\n",
    "You are provided with the latest developer survey results from Stack Overflow. Your task is to perform analytics on the survey to extract insights about the programming industry."
   ]
  },
  {
   "cell_type": "markdown",
   "metadata": {},
   "source": [
    "## Setup\n",
    "If you are in google colab, you should just be able to run the cell below. Otherwise find the conda `environment.yml` file provided with all the dependencies."
   ]
  },
  {
   "cell_type": "code",
   "execution_count": 1,
   "metadata": {},
   "outputs": [
    {
     "name": "stdout",
     "output_type": "stream",
     "text": [
      "Collecting pandas\n",
      "  Downloading pandas-2.3.3-cp311-cp311-macosx_11_0_arm64.whl.metadata (91 kB)\n",
      "\u001b[2K     \u001b[90m━━━━━━━━━━━━━━━━━━━━━━━━━━━━━━━━━━━━━━━━\u001b[0m \u001b[32m91.2/91.2 kB\u001b[0m \u001b[31m4.4 MB/s\u001b[0m eta \u001b[36m0:00:00\u001b[0m\n",
      "\u001b[?25hCollecting numpy>=1.23.2 (from pandas)\n",
      "  Using cached numpy-2.3.3-cp311-cp311-macosx_14_0_arm64.whl.metadata (62 kB)\n",
      "Requirement already satisfied: python-dateutil>=2.8.2 in /Users/abrahamlin/Downloads/Marshall-Wace/venv/lib/python3.11/site-packages (from pandas) (2.9.0.post0)\n",
      "Collecting pytz>=2020.1 (from pandas)\n",
      "  Using cached pytz-2025.2-py2.py3-none-any.whl.metadata (22 kB)\n",
      "Collecting tzdata>=2022.7 (from pandas)\n",
      "  Using cached tzdata-2025.2-py2.py3-none-any.whl.metadata (1.4 kB)\n",
      "Requirement already satisfied: six>=1.5 in /Users/abrahamlin/Downloads/Marshall-Wace/venv/lib/python3.11/site-packages (from python-dateutil>=2.8.2->pandas) (1.17.0)\n",
      "Downloading pandas-2.3.3-cp311-cp311-macosx_11_0_arm64.whl (10.8 MB)\n",
      "\u001b[2K   \u001b[90m━━━━━━━━━━━━━━━━━━━━━━━━━━━━━━━━━━━━━━━━\u001b[0m \u001b[32m10.8/10.8 MB\u001b[0m \u001b[31m11.9 MB/s\u001b[0m eta \u001b[36m0:00:00\u001b[0m00:01\u001b[0m00:01\u001b[0m\n",
      "\u001b[?25hUsing cached numpy-2.3.3-cp311-cp311-macosx_14_0_arm64.whl (5.4 MB)\n",
      "Using cached pytz-2025.2-py2.py3-none-any.whl (509 kB)\n",
      "Using cached tzdata-2025.2-py2.py3-none-any.whl (347 kB)\n",
      "Installing collected packages: pytz, tzdata, numpy, pandas\n",
      "Successfully installed numpy-2.3.3 pandas-2.3.3 pytz-2025.2 tzdata-2025.2\n",
      "\n",
      "\u001b[1m[\u001b[0m\u001b[34;49mnotice\u001b[0m\u001b[1;39;49m]\u001b[0m\u001b[39;49m A new release of pip is available: \u001b[0m\u001b[31;49m24.0\u001b[0m\u001b[39;49m -> \u001b[0m\u001b[32;49m25.2\u001b[0m\n",
      "\u001b[1m[\u001b[0m\u001b[34;49mnotice\u001b[0m\u001b[1;39;49m]\u001b[0m\u001b[39;49m To update, run: \u001b[0m\u001b[32;49mpip install --upgrade pip\u001b[0m\n",
      "Note: you may need to restart the kernel to use updated packages.\n"
     ]
    }
   ],
   "source": [
    "%pip install pandas\n",
    "import pandas as pd"
   ]
  },
  {
   "cell_type": "markdown",
   "metadata": {},
   "source": [
    "## Reading the data\n",
    "\n",
    "Find a utility class below to read the data for you."
   ]
  },
  {
   "cell_type": "code",
   "execution_count": null,
   "metadata": {},
   "outputs": [],
   "source": [
    "import csv\n",
    "from typing import List, Dict, Any, Optional\n",
    "from pathlib import Path\n",
    "\n",
    "RESPONSE_ID_FIELD_NAME = \"ResponseId\"\n",
    "QUESTION_ID_FIELD_NAME = \"qid\"\n",
    "\n",
    "class SurveyDataReader:\n",
    "    \"\"\"\n",
    "    Read and process Stack Overflow Developer Survey data.\n",
    "    \"\"\"\n",
    "\n",
    "    def __init__(self, schema_file: str, data_file: str):\n",
    "        self.schema = self._parse_schema(schema_file)\n",
    "        self.data = self._parse_data(data_file)\n",
    "\n",
    "    def _parse_schema(self, schema_file: str) -> List[Dict[str, str]]:\n",
    "        schema = []\n",
    "        schema_path = Path(schema_file).resolve()\n",
    "        with open(schema_path, mode=\"r\", encoding=\"utf-8-sig\") as file:\n",
    "            reader = csv.DictReader(file)\n",
    "            schema = [row for row in reader]\n",
    "        return schema\n",
    "\n",
    "    def _parse_data(self, data_file: str) -> List[Dict[str, Any]]:\n",
    "        data = []\n",
    "        data_path = Path(data_file).resolve()\n",
    "        with open(data_path, mode=\"r\") as file:\n",
    "            reader = csv.DictReader(file)\n",
    "            data = [row for row in reader]\n",
    "        return data\n",
    "\n",
    "    def get_schema(self) -> List[Dict[str, str]]:\n",
    "        return self.schema\n",
    "\n",
    "    def get_data(self) -> List[Dict[str, Any]]:\n",
    "        return self.data\n",
    "\n",
    "    def get_question_by_id(self, qid: str) -> Optional[Dict[str, str]]:\n",
    "        for question in self.schema:\n",
    "            if question[QUESTION_ID_FIELD_NAME] == qid:\n",
    "                return question\n",
    "        return None\n",
    "\n",
    "    def get_responses_for_question(self, qname: str) -> List[Any]:\n",
    "        return [response[qname] for response in self.data if qname in response]\n",
    "\n",
    "    def get_response_by_id(self, response_id: str | int) -> Optional[Dict[str, Any]]:\n",
    "        response_id_str = str(response_id)\n",
    "        for response in self.data:\n",
    "            if response[RESPONSE_ID_FIELD_NAME] == response_id_str:\n",
    "                return response\n",
    "        return None"
   ]
  },
  {
   "cell_type": "markdown",
   "metadata": {},
   "source": [
    "## Getting to know the data reader"
   ]
  },
  {
   "cell_type": "code",
   "execution_count": 18,
   "metadata": {},
   "outputs": [],
   "source": [
    "SURVEY_SUBDIR = \"stack-overflow-developer-survey-2025\"\n",
    "SCHEMA_RELATIVE_PATH = f\"{SURVEY_SUBDIR}/survey_results_schema.csv\"\n",
    "DATA_RELATIVE_PATH = f\"{SURVEY_SUBDIR}/survey_results_public_cleaned.csv\"\n",
    "\n",
    "reader = SurveyDataReader(SCHEMA_RELATIVE_PATH, DATA_RELATIVE_PATH)"
   ]
  },
  {
   "cell_type": "code",
   "execution_count": 20,
   "metadata": {},
   "outputs": [
    {
     "name": "stdout",
     "output_type": "stream",
     "text": [
      "[{'qid': 'QID18', 'qname': 'TechEndorse_1', 'question': 'What attracts you to a technology or causes you to endorse it (most to least important)?', 'type': 'RO', 'sub': 'AI integration or AI Agent capabilities', 'sq_id': '1'}, {'qid': 'QID18', 'qname': 'TechEndorse_2', 'question': 'What attracts you to a technology or causes you to endorse it (most to least important)?', 'type': 'RO', 'sub': 'Easy-to-use API', 'sq_id': '2'}, {'qid': 'QID18', 'qname': 'TechEndorse_3', 'question': 'What attracts you to a technology or causes you to endorse it (most to least important)?', 'type': 'RO', 'sub': 'Robust and complete API', 'sq_id': '3'}, {'qid': 'QID18', 'qname': 'TechEndorse_4', 'question': 'What attracts you to a technology or causes you to endorse it (most to least important)?', 'type': 'RO', 'sub': 'Customizable and manageable codebase', 'sq_id': '4'}, {'qid': 'QID18', 'qname': 'TechEndorse_5', 'question': 'What attracts you to a technology or causes you to endorse it (most to least important)?', 'type': 'RO', 'sub': 'Reputation for quality', 'sq_id': '5'}, {'qid': 'QID18', 'qname': 'TechEndorse_6', 'question': 'What attracts you to a technology or causes you to endorse it (most to least important)?', 'type': 'RO', 'sub': 'Connected to an open-source project', 'sq_id': '6'}, {'qid': 'QID18', 'qname': 'TechEndorse_7', 'question': 'What attracts you to a technology or causes you to endorse it (most to least important)?', 'type': 'RO', 'sub': 'Good brand and public image', 'sq_id': '7'}, {'qid': 'QID18', 'qname': 'TechEndorse_8', 'question': 'What attracts you to a technology or causes you to endorse it (most to least important)?', 'type': 'RO', 'sub': 'Reliability and low latency', 'sq_id': '8'}, {'qid': 'QID18', 'qname': 'TechEndorse_9', 'question': 'What attracts you to a technology or causes you to endorse it (most to least important)?', 'type': 'RO', 'sub': 'Costs are manageable', 'sq_id': '9'}, {'qid': 'QID18', 'qname': 'TechEndorse_13', 'question': 'What attracts you to a technology or causes you to endorse it (most to least important)?', 'type': 'RO', 'sub': 'Other (please specify):', 'sq_id': '10'}, {'qid': 'QID18', 'qname': 'TechEndorse_13_TEXT', 'question': 'What attracts you to a technology or causes you to endorse it (most to least important)?', 'type': 'RO', 'sub': 'Other (please specify): - Text', 'sq_id': '13'}, {'qid': 'QID19', 'qname': 'TechOppose_1', 'question': 'What would turn you off or cause you to reject it (most to least important)?', 'type': 'RO', 'sub': 'Lack of AI or AI agents', 'sq_id': '1'}, {'qid': 'QID19', 'qname': 'TechOppose_2', 'question': 'What would turn you off or cause you to reject it (most to least important)?', 'type': 'RO', 'sub': 'Poor usability', 'sq_id': '2'}, {'qid': 'QID19', 'qname': 'TechOppose_3', 'question': 'What would turn you off or cause you to reject it (most to least important)?', 'type': 'RO', 'sub': 'Lack of or sub-par API', 'sq_id': '3'}, {'qid': 'QID19', 'qname': 'TechOppose_5', 'question': 'What would turn you off or cause you to reject it (most to least important)?', 'type': 'RO', 'sub': 'Inefficient or time-costly', 'sq_id': '4'}, {'qid': 'QID19', 'qname': 'TechOppose_7', 'question': 'What would turn you off or cause you to reject it (most to least important)?', 'type': 'RO', 'sub': 'Prohibitive pricing', 'sq_id': '5'}, {'qid': 'QID19', 'qname': 'TechOppose_9', 'question': 'What would turn you off or cause you to reject it (most to least important)?', 'type': 'RO', 'sub': 'Security or privacy concerns', 'sq_id': '6'}, {'qid': 'QID19', 'qname': 'TechOppose_11', 'question': 'What would turn you off or cause you to reject it (most to least important)?', 'type': 'RO', 'sub': 'Availability of better alternatives', 'sq_id': '7'}, {'qid': 'QID19', 'qname': 'TechOppose_13', 'question': 'What would turn you off or cause you to reject it (most to least important)?', 'type': 'RO', 'sub': 'Outdated or obsolete technology or features', 'sq_id': '8'}, {'qid': 'QID19', 'qname': 'TechOppose_16', 'question': 'What would turn you off or cause you to reject it (most to least important)?', 'type': 'RO', 'sub': 'Ethical concerns', 'sq_id': '9'}, {'qid': 'QID19', 'qname': 'TechOppose_15', 'question': 'What would turn you off or cause you to reject it (most to least important)?', 'type': 'RO', 'sub': 'Other (please specify):', 'sq_id': '10'}, {'qid': 'QID19', 'qname': 'TechOppose_15_TEXT', 'question': 'What would turn you off or cause you to reject it (most to least important)?', 'type': 'RO', 'sub': 'Other (please specify): - Text', 'sq_id': '15'}, {'qid': 'QID27', 'qname': 'JobSatPoints_1', 'question': 'Rank the following attributes of your current professional job in technology according to those that contribute your job satisfaction so that the first is the most important, last is least important (if you just started a new job, consider the job you spent the most time at in the past year):', 'type': 'RO', 'sub': 'Control over the level of quality in projects', 'sq_id': '1'}, {'qid': 'QID27', 'qname': 'JobSatPoints_2', 'question': 'Rank the following attributes of your current professional job in technology according to those that contribute your job satisfaction so that the first is the most important, last is least important (if you just started a new job, consider the job you spent the most time at in the past year):', 'type': 'RO', 'sub': 'Autonomy and trust to manage your own tasks', 'sq_id': '2'}, {'qid': 'QID27', 'qname': 'JobSatPoints_16', 'question': 'Rank the following attributes of your current professional job in technology according to those that contribute your job satisfaction so that the first is the most important, last is least important (if you just started a new job, consider the job you spent the most time at in the past year):', 'type': 'RO', 'sub': 'You like your manager', 'sq_id': '3'}, {'qid': 'QID27', 'qname': 'JobSatPoints_3', 'question': 'Rank the following attributes of your current professional job in technology according to those that contribute your job satisfaction so that the first is the most important, last is least important (if you just started a new job, consider the job you spent the most time at in the past year):', 'type': 'RO', 'sub': 'Collaboration and support from a team', 'sq_id': '4'}, {'qid': 'QID27', 'qname': 'JobSatPoints_4', 'question': 'Rank the following attributes of your current professional job in technology according to those that contribute your job satisfaction so that the first is the most important, last is least important (if you just started a new job, consider the job you spent the most time at in the past year):', 'type': 'RO', 'sub': 'Expert mentors', 'sq_id': '5'}, {'qid': 'QID27', 'qname': 'JobSatPoints_5', 'question': 'Rank the following attributes of your current professional job in technology according to those that contribute your job satisfaction so that the first is the most important, last is least important (if you just started a new job, consider the job you spent the most time at in the past year):', 'type': 'RO', 'sub': 'Opportunities to mentor and lead junior-level coworkers', 'sq_id': '6'}, {'qid': 'QID27', 'qname': 'JobSatPoints_6', 'question': 'Rank the following attributes of your current professional job in technology according to those that contribute your job satisfaction so that the first is the most important, last is least important (if you just started a new job, consider the job you spent the most time at in the past year):', 'type': 'RO', 'sub': 'Developing specialized expertise', 'sq_id': '7'}, {'qid': 'QID27', 'qname': 'JobSatPoints_7', 'question': 'Rank the following attributes of your current professional job in technology according to those that contribute your job satisfaction so that the first is the most important, last is least important (if you just started a new job, consider the job you spent the most time at in the past year):', 'type': 'RO', 'sub': 'Solving real-world problems', 'sq_id': '8'}, {'qid': 'QID27', 'qname': 'JobSatPoints_8', 'question': 'Rank the following attributes of your current professional job in technology according to those that contribute your job satisfaction so that the first is the most important, last is least important (if you just started a new job, consider the job you spent the most time at in the past year):', 'type': 'RO', 'sub': 'Job stability and career growth with a single employer', 'sq_id': '9'}, {'qid': 'QID27', 'qname': 'JobSatPoints_9', 'question': 'Rank the following attributes of your current professional job in technology according to those that contribute your job satisfaction so that the first is the most important, last is least important (if you just started a new job, consider the job you spent the most time at in the past year):', 'type': 'RO', 'sub': 'Innovation through solving challenging and complex problems', 'sq_id': '10'}, {'qid': 'QID27', 'qname': 'JobSatPoints_10', 'question': 'Rank the following attributes of your current professional job in technology according to those that contribute your job satisfaction so that the first is the most important, last is least important (if you just started a new job, consider the job you spent the most time at in the past year):', 'type': 'RO', 'sub': 'Working with new technologies and tools', 'sq_id': '11'}, {'qid': 'QID27', 'qname': 'JobSatPoints_11', 'question': 'Rank the following attributes of your current professional job in technology according to those that contribute your job satisfaction so that the first is the most important, last is least important (if you just started a new job, consider the job you spent the most time at in the past year):', 'type': 'RO', 'sub': 'Competitive pay and benefits', 'sq_id': '12'}, {'qid': 'QID27', 'qname': 'JobSatPoints_13', 'question': 'Rank the following attributes of your current professional job in technology according to those that contribute your job satisfaction so that the first is the most important, last is least important (if you just started a new job, consider the job you spent the most time at in the past year):', 'type': 'RO', 'sub': 'Recognition from peers for your work', 'sq_id': '13'}, {'qid': 'QID27', 'qname': 'JobSatPoints_14', 'question': 'Rank the following attributes of your current professional job in technology according to those that contribute your job satisfaction so that the first is the most important, last is least important (if you just started a new job, consider the job you spent the most time at in the past year):', 'type': 'RO', 'sub': 'Recognition from leadership for your work', 'sq_id': '14'}, {'qid': 'QID27', 'qname': 'JobSatPoints_15', 'question': 'Rank the following attributes of your current professional job in technology according to those that contribute your job satisfaction so that the first is the most important, last is least important (if you just started a new job, consider the job you spent the most time at in the past year):', 'type': 'RO', 'sub': 'Other (please specify):', 'sq_id': '15'}, {'qid': 'QID27', 'qname': 'JobSatPoints_15_TEXT', 'question': 'Rank the following attributes of your current professional job in technology according to those that contribute your job satisfaction so that the first is the most important, last is least important (if you just started a new job, consider the job you spent the most time at in the past year):', 'type': 'RO', 'sub': 'Other (please specify): - Text', 'sq_id': '15'}, {'qid': 'QID76', 'qname': 'SO_Actions_1', 'question': 'When visiting Stack Overflow, which following activities are you most interested in?  Please rank the following so the first activity is what most interests you and last is your least interested activity.', 'type': 'RO', 'sub': 'Browse content related to Q&A posts I recently viewed', 'sq_id': '1'}, {'qid': 'QID76', 'qname': 'SO_Actions_16', 'question': 'When visiting Stack Overflow, which following activities are you most interested in?  Please rank the following so the first activity is what most interests you and last is your least interested activity.', 'type': 'RO', 'sub': 'Read and/or vote on comments for a Question or Answer I am interested in', 'sq_id': '2'}, {'qid': 'QID76', 'qname': 'SO_Actions_3', 'question': 'When visiting Stack Overflow, which following activities are you most interested in?  Please rank the following so the first activity is what most interests you and last is your least interested activity.', 'type': 'RO', 'sub': 'Bookmark posts to look at later', 'sq_id': '3'}, {'qid': 'QID76', 'qname': 'SO_Actions_4', 'question': 'When visiting Stack Overflow, which following activities are you most interested in?  Please rank the following so the first activity is what most interests you and last is your least interested activity.', 'type': 'RO', 'sub': 'Directly open a Q&A post via search, documentation or a peer', 'sq_id': '4'}, {'qid': 'QID76', 'qname': 'SO_Actions_5', 'question': 'When visiting Stack Overflow, which following activities are you most interested in?  Please rank the following so the first activity is what most interests you and last is your least interested activity.', 'type': 'RO', 'sub': 'Ask a question', 'sq_id': '5'}, {'qid': 'QID76', 'qname': 'SO_Actions_6', 'question': 'When visiting Stack Overflow, which following activities are you most interested in?  Please rank the following so the first activity is what most interests you and last is your least interested activity.', 'type': 'RO', 'sub': 'Answer a question', 'sq_id': '6'}, {'qid': 'QID76', 'qname': 'SO_Actions_9', 'question': 'When visiting Stack Overflow, which following activities are you most interested in?  Please rank the following so the first activity is what most interests you and last is your least interested activity.', 'type': 'RO', 'sub': 'Comment on Q&A posts', 'sq_id': '7'}, {'qid': 'QID76', 'qname': 'SO_Actions_7', 'question': 'When visiting Stack Overflow, which following activities are you most interested in?  Please rank the following so the first activity is what most interests you and last is your least interested activity.', 'type': 'RO', 'sub': 'Upvote/Downvote Q&A posts', 'sq_id': '8'}, {'qid': 'QID76', 'qname': 'SO_Actions_10', 'question': 'When visiting Stack Overflow, which following activities are you most interested in?  Please rank the following so the first activity is what most interests you and last is your least interested activity.', 'type': 'RO', 'sub': 'Use discussion or chat feature', 'sq_id': '9'}, {'qid': 'QID76', 'qname': 'SO_Actions_15', 'question': 'When visiting Stack Overflow, which following activities are you most interested in?  Please rank the following so the first activity is what most interests you and last is your least interested activity.', 'type': 'RO', 'sub': 'Other (write in):', 'sq_id': '10'}, {'qid': 'QID76', 'qname': 'SO_Actions_15_TEXT', 'question': 'When visiting Stack Overflow, which following activities are you most interested in?  Please rank the following so the first activity is what most interests you and last is your least interested activity.', 'type': 'RO', 'sub': 'Other (write in): - Text', 'sq_id': '15'}, {'qid': 'QID3', 'qname': 'MainBranch', 'question': 'Are you someone who writes code? Please select one of the following options that best describes you today.', 'type': 'MC', 'sub': 'NA', 'sq_id': 'NA'}, {'qid': 'QID4', 'qname': 'Age', 'question': 'What is your age?', 'type': 'MC', 'sub': 'NA', 'sq_id': 'NA'}, {'qid': 'QID9', 'qname': 'EdLevel', 'question': 'Which of the following best describes the highest level of formal education that you’ve completed? ', 'type': 'MC', 'sub': 'NA', 'sq_id': 'NA'}, {'qid': 'QID7', 'qname': 'Employment', 'question': 'Which of the following best describes your current employment status?<br>', 'type': 'MC', 'sub': 'NA', 'sq_id': 'NA'}, {'qid': 'QID8', 'qname': 'EmploymentAddl', 'question': 'Which of the following <strong>additional</strong> activities are you currently engaged in?', 'type': 'MC', 'sub': 'NA', 'sq_id': 'NA'}, {'qid': 'QID14', 'qname': 'WorkExp', 'question': \"How many years of professional work experience do you have? Please round to the nearest whole number, excluding any decimal points.  If your answer is '0', please leave blank.\", 'type': 'TE', 'sub': 'NA', 'sq_id': 'NA'}, {'qid': 'QID10', 'qname': 'LearnCodeChoose', 'question': 'Did you begin learning to code or learn a new coding skill/programming language in the last year?', 'type': 'MC', 'sub': 'NA', 'sq_id': 'NA'}, {'qid': 'QID11', 'qname': 'LearnCode', 'question': 'How did you learn to code in the past year? Select all that apply.', 'type': 'MC', 'sub': 'NA', 'sq_id': 'NA'}, {'qid': 'QID12', 'qname': 'LearnCodeAI', 'question': 'Did you spend time in the last year learning AI programming or AI-enabled tooling on your own or at work?', 'type': 'MC', 'sub': 'NA', 'sq_id': 'NA'}, {'qid': 'QID32', 'qname': 'AILearnHow', 'question': 'How did you learn to code for AI in the past year? Select all that apply.', 'type': 'MC', 'sub': 'NA', 'sq_id': 'NA'}, {'qid': 'QID13', 'qname': 'YearsCode', 'question': 'Including any education, how many years have you been coding in total?  Please round to the nearest whole number, excluding any decimal points.', 'type': 'TE', 'sub': 'NA', 'sq_id': 'NA'}, {'qid': 'QID15', 'qname': 'DevType', 'question': 'Which of the following describes your current job or the job you had for the most time in the past year?', 'type': 'MC', 'sub': 'NA', 'sq_id': 'NA'}, {'qid': 'QID16', 'qname': 'OrgSize', 'question': 'Approximately how many people are employed by your employer?  This should only include your primary company, and if there was more than one employer please consider the one you spent most of your time working for in the past year.', 'type': 'MC', 'sub': 'NA', 'sq_id': 'NA'}, {'qid': 'QID23', 'qname': 'ICorPM', 'question': 'Are you an individual contributor or people manager?', 'type': 'MC', 'sub': 'NA', 'sq_id': 'NA'}, {'qid': 'QID24', 'qname': 'RemoteWork', 'question': 'Which best describes your current work situation?', 'type': 'MC', 'sub': 'NA', 'sq_id': 'NA'}, {'qid': 'QID17', 'qname': 'PurchaseInfluence', 'question': 'Have you <strong>influenced or endorsed</strong> a new technology purchase at your organization or sole proprietor job in the past year?', 'type': 'MC', 'sub': 'NA', 'sq_id': 'NA'}, {'qid': 'QID33', 'qname': 'TechEndorseIntro', 'question': 'When you&rsquo;re in a position to <strong>influence or endorse a technology</strong>, whether at work, for school, or for a personal project you&rsquo;re responsible for, what features or attributes matter most when deciding to support a tool? What factors would be deal-breakers?<br />\\n<br />\\nFirst, select the context (work, school, personal project).  Then, rank the following features in order of importance.\\u200b\\u200b\\u200b\\u200b\\u200b\\u200b', 'type': 'MC', 'sub': 'NA', 'sq_id': 'NA'}, {'qid': 'QID25', 'qname': 'Industry', 'question': 'What industry do you work for in?', 'type': 'MC', 'sub': 'NA', 'sq_id': 'NA'}, {'qid': 'QID26', 'qname': 'JobSat', 'question': 'How satisfied are you in your current professional developer role?', 'type': 'MC', 'sub': 'NA', 'sq_id': 'NA'}, {'qid': 'QID28', 'qname': 'AIThreat', 'question': 'Do you believe AI is a threat to your current job?', 'type': 'MC', 'sub': 'NA', 'sq_id': 'NA'}, {'qid': 'QID29', 'qname': 'NewRole', 'question': 'Have you considered a career change or transitioned into a new role in the past year?', 'type': 'MC', 'sub': 'NA', 'sq_id': 'NA'}, {'qid': 'QID30', 'qname': 'ToolCountWork', 'question': 'For your <b>primary work role</b> (student, developer, or technologist) over the past year:\\n<br><br>Excluding general operating systems (like Windows or macOS) and web browsers, <b>how many distinct software applications or platforms</b> did you regularly use to create, analyze, manage, or share information in order to do your job?\\n\\nPlease enter a whole number below with no punctuation, or leave blank.', 'type': 'TE', 'sub': 'NA', 'sq_id': 'NA'}, {'qid': 'QID31', 'qname': 'ToolCountPersonal', 'question': '<b></b>For your <b>side projects or other personal work</b> over the past year (focus on the project you spent the most time on if applicable):\\n<br><br>Excluding general operating systems and web browsers, how many <b>distinct software applications or platforms</b> did you regularly use to do your job? Please enter a whole number below with no punctuation, or leave blank.', 'type': 'TE', 'sub': 'NA', 'sq_id': 'NA'}, {'qid': 'QID20', 'qname': 'Country', 'question': 'Where do you live?', 'type': 'MC', 'sub': 'NA', 'sq_id': 'NA'}, {'qid': 'QID21', 'qname': 'Currency', 'question': \"Which currency do you use day-to-day? If your answer is complicated, please pick the one you're most comfortable estimating in.\", 'type': 'MC', 'sub': 'NA', 'sq_id': 'NA'}, {'qid': 'QID22', 'qname': 'CompTotal', 'question': 'What is your current total <b>annual</b> compensation (salary, bonuses, and perks, before taxes and deductions) in terms of your day-to-day currency?  Please enter a whole number in the box below, without any punctuation.  If you are paid hourly, please estimate an equivalent yearly salary. If you prefer not to answer, please leave the box empty. ', 'type': 'TE', 'sub': 'NA', 'sq_id': 'NA'}, {'qid': 'QID44', 'qname': 'LanguageChoice', 'question': 'Did you work with programming, scripting and markup languages in the last year or do you plan to in the year to come?  Here, we are referring to anything you use that is conventionally referred to as code.', 'type': 'MC', 'sub': 'NA', 'sq_id': 'NA'}, {'qid': 'QID34', 'qname': 'Language', 'question': 'Which <b>programming, scripting, and markup languages</b> have you done extensive development work in over the past year, and which do you want to work in over the next year? (If you both worked with the language and want to continue to do so, please check both boxes in that row.)', 'type': 'Matrix', 'sub': 'NA', 'sq_id': 'NA'}, {'qid': 'QID51', 'qname': 'LanguagesHaveEntry', 'question': 'Was the programming language you use not listed above?  List below, separated by a comma and a space for each, the programming language(s) <strong>you used in the past year</strong>.', 'type': 'TE', 'sub': 'NA', 'sq_id': 'NA'}, {'qid': 'QID52', 'qname': 'LanguagesWantEntry', 'question': 'Was the programming language you want to use not listed above? List below, separated by a comma and a space for each, the programming language(s) <strong>you want to use next year</strong>.', 'type': 'TE', 'sub': 'NA', 'sq_id': 'NA'}, {'qid': 'QID45', 'qname': 'DatabaseChoice', 'question': 'Did you work with database environments in the last year or do you plan to in the year to come?  Here, we are referring to a system of managing structured data, mostly outside of your local machine.', 'type': 'MC', 'sub': 'NA', 'sq_id': 'NA'}, {'qid': 'QID35', 'qname': 'Database', 'question': 'Which <b>database environments </b>have you done extensive development work in over the past year, and which do you want to work in over the next year? (If you both worked with the database and want to continue to do so, please check both boxes in that row.)', 'type': 'Matrix', 'sub': 'NA', 'sq_id': 'NA'}, {'qid': 'QID54', 'qname': 'DatabaseHaveEntry', 'question': 'Was the database environment you use not listed above?  List below, separated by a comma and a space for each, what <strong>you used in the past year</strong>.', 'type': 'TE', 'sub': 'NA', 'sq_id': 'NA'}, {'qid': 'QID55', 'qname': 'DatabaseWantEntry', 'question': 'Was the database environment you want to use not listed above? List below, separated by a comma and a space for each, what <strong>you want to use next year</strong>.', 'type': 'TE', 'sub': 'NA', 'sq_id': 'NA'}, {'qid': 'QID46', 'qname': 'PlatformChoice', 'question': 'Did you work with cloud platforms, containerization/orchestration tools, package managers, build tools or infrastructure as code solutions in the last year or do you plan to in the year to come?  Here, we are referring to tooling that automates, manages, and scales the entire application lifecycle, often leveraging remote, virtualized resources.', 'type': 'MC', 'sub': 'NA', 'sq_id': 'NA'}, {'qid': 'QID36', 'qname': 'Platform', 'question': 'Which <b>cloud platforms, containerization/orchestration tools, package managers, build tools, and infrastructure as code solutions</b> have you done extensive development work in over the past year, and which do you want to work in over the next year? (If you both worked with the platform and want to continue to do so, please check both boxes in that row.)', 'type': 'Matrix', 'sub': 'NA', 'sq_id': 'NA'}, {'qid': 'QID56', 'qname': 'PlatformHaveEntry', 'question': 'Was the cloud platforms, containerization/orchestration tools, package managers, build tools, and infrastructure as code solutions you use not listed above?  List below, separated by a comma and a space for each, what <strong>you used in the past year</strong>.', 'type': 'TE', 'sub': 'NA', 'sq_id': 'NA'}, {'qid': 'QID57', 'qname': 'PlatformWantEntry', 'question': 'Was the cloud platforms, containerization/orchestration tools, package managers, build tools, and infrastructure as code solutions you want to use not listed above?  List below, separated by a comma and a space for each, what<strong>you want to use next year</strong>.', 'type': 'TE', 'sub': 'NA', 'sq_id': 'NA'}, {'qid': 'QID47', 'qname': 'WebframeChoice', 'question': 'Did you work with web frameworks and web technologies in the last year or do you plan to in the year to come?  Here, we are referring to technology that helps website and web apps materialize.', 'type': 'MC', 'sub': 'NA', 'sq_id': 'NA'}, {'qid': 'QID37', 'qname': 'Webframe', 'question': 'Which <b>web frameworks and web technologies</b> have you done extensive development work in over the past year, and which do you want to work in over the next year? (If you both worked with the framework and want to continue to do so, please check both boxes in that row.)', 'type': 'Matrix', 'sub': 'NA', 'sq_id': 'NA'}, {'qid': 'QID58', 'qname': 'WebframeHaveEntry', 'question': 'Were the web frameworks and web technologies you use not listed above?  List below, separated by a comma and a space for each, what <strong>you used in the past year</strong>.', 'type': 'TE', 'sub': 'NA', 'sq_id': 'NA'}, {'qid': 'QID59', 'qname': 'WebframeWantEntry', 'question': 'Were the web frameworks and web technologies you want to use not listed above?  List below, separated by a comma and a space for each, the what <strong>you want to use next year</strong>.', 'type': 'TE', 'sub': 'NA', 'sq_id': 'NA'}, {'qid': 'QID48', 'qname': 'DevEnvsChoice', 'question': 'Did you work with development environments or AI-enabled code editing tools in the last year or do you plan to in the year to come?  Here, we are referring to programs like VS Code that allow you to write, edit and save code easily and help you share code with other developers or AI agents.', 'type': 'MC', 'sub': 'NA', 'sq_id': 'NA'}, {'qid': 'QID38', 'qname': 'DevEnvs', 'question': 'Which <strong>development environments and AI-enabled code editing tools</strong> did you use regularly over the past year, and which do you want to work with over the next year? Please check all that apply.', 'type': 'Matrix', 'sub': 'NA', 'sq_id': 'NA'}, {'qid': 'QID60', 'qname': 'DevEnvHaveEntry', 'question': 'Was the developer environment or AI-enabled code editing tool you use not listed above?  List below, separated by a comma and a space for each, what<strong> you used in the past year</strong>.', 'type': 'TE', 'sub': 'NA', 'sq_id': 'NA'}, {'qid': 'QID61', 'qname': 'DevEnvWantEntry', 'question': 'Was the developer environment or AI-enabled code editing tool you want to use not listed above?  List below, separated by a comma and a space for each, what <strong>you want to use next year</strong>.', 'type': 'TE', 'sub': 'NA', 'sq_id': 'NA'}, {'qid': 'QID39', 'qname': 'SOTags', 'question': 'Which rising technology of the added as <b>new tag or tag subject area on Stack Overflow</b> in the last three years <strong>have you used</strong> regularly in the past year, and which do you <strong>want to work with</strong> over the next year? Please check all that apply.<br>\\n ', 'type': 'Matrix', 'sub': 'NA', 'sq_id': 'NA'}, {'qid': 'QID62', 'qname': 'SOTagsHaveEntry', 'question': 'Was the new tag on Stack Overflow (i.e. added in the last 2 - 3 years) you use not listed above?  List below, separated by a comma and a space for each, what <strong>you used in the past year</strong>.', 'type': 'TE', 'sub': 'NA', 'sq_id': 'NA'}, {'qid': 'QID63', 'qname': 'SOTagsWant Entry', 'question': 'Was the new tag on Stack Overflow (i.e. added in the last 2 - 3 years) you want to use not listed above?  List below, separated by a comma and a space for each, what <strong>you want to use next year</strong>.', 'type': 'TE', 'sub': 'NA', 'sq_id': 'NA'}, {'qid': 'QID40', 'qname': 'OpSys', 'question': 'What is the primary <b>operating system</b> in which you work? ', 'type': 'Matrix', 'sub': 'NA', 'sq_id': 'NA'}, {'qid': 'QID41', 'qname': 'OfficeStackAsync', 'question': 'Which <b>collaborative work management and/or code documentation tools</b> did you use regularly over the past year, and which do you want to work with over the next year? Select all that apply', 'type': 'Matrix', 'sub': 'NA', 'sq_id': 'NA'}, {'qid': 'QID64', 'qname': 'OfficeStackHaveEntry', 'question': 'Was the collaborative work management and/or code documentation tools you use not listed above?  List below, separated by a comma and a space for each, what you used in the past year.', 'type': 'TE', 'sub': 'NA', 'sq_id': 'NA'}, {'qid': 'QID65', 'qname': 'OfficeStackWantEntry', 'question': 'Was the collaborative work management and/or code documentation tools you want to use not listed above?  List below, separated by a comma and a space for each, what you used in the past year.', 'type': 'TE', 'sub': 'NA', 'sq_id': 'NA'}, {'qid': 'QID42', 'qname': 'CommPlatform', 'question': 'Which <b>community platforms</b> have you utilized considerably or consistently in the past year, and which would you like to use next year?  Select all that apply.', 'type': 'Matrix', 'sub': 'NA', 'sq_id': 'NA'}, {'qid': 'QID66', 'qname': 'CommPlatformHaveEntr', 'question': 'Was the community platform you use not listed above?  List below, separated by a comma and a space for each, what you used in the past year.', 'type': 'TE', 'sub': 'NA', 'sq_id': 'NA'}, {'qid': 'QID67', 'qname': 'CommPlatformWantEntr', 'question': 'Was the community platform you want to use not listed above?  List below, separated by a comma and a space for each, what you used in the past year.', 'type': 'TE', 'sub': 'NA', 'sq_id': 'NA'}, {'qid': 'QID50', 'qname': 'AIModelsChoice', 'question': 'Did you utilize or integrate specific Large Language Models (LLMs) to power your development tools or applications in the last year?  Here, we are referring to models like GPT-4, Llama, Claude, etc., within your development environments or solutions.', 'type': 'MC', 'sub': 'NA', 'sq_id': 'NA'}, {'qid': 'QID43', 'qname': 'AIModels', 'question': 'Which <b>LLM models for AI tools</b> have you used for development work in the past year, and which would you like to use next year?  Select all that apply.', 'type': 'Matrix', 'sub': 'NA', 'sq_id': 'NA'}, {'qid': 'QID68', 'qname': 'AIModelsHaveEntry', 'question': 'Was the LLM model for AI tools you use not listed above?  List below, separated by a comma and a space for each, what <strong>you used in the past year</strong>.', 'type': 'TE', 'sub': 'NA', 'sq_id': 'NA'}, {'qid': 'QID69', 'qname': 'AIModelsWantEntry', 'question': 'Was the LLM model for AI tools you want to use not listed above?  List below, separated by a comma and a space for each, what <strong>you want to use next year</strong>.', 'type': 'TE', 'sub': 'NA', 'sq_id': 'NA'}, {'qid': 'QID72', 'qname': 'SOAccount', 'question': 'Do you have a Stack Overflow account?', 'type': 'MC', 'sub': 'NA', 'sq_id': 'NA'}, {'qid': 'QID70', 'qname': 'SOVisitFreq', 'question': 'How frequently would you say you visit Stack Overflow?', 'type': 'MC', 'sub': 'NA', 'sq_id': 'NA'}, {'qid': 'QID71', 'qname': 'SODuration', 'question': 'How long have you used Stack Overflow?', 'type': 'MC', 'sub': 'NA', 'sq_id': 'NA'}, {'qid': 'QID73', 'qname': 'SOPartFreq', 'question': 'How frequently would you say you participate in Q&amp;A on Stack Overflow? By participate we mean ask, answer, and vote or comment on questions.', 'type': 'MC', 'sub': 'NA', 'sq_id': 'NA'}, {'qid': 'QID75', 'qname': 'SO_Dev_Content', 'question': 'Whether it be to solve a problem, for career growth or connecting with a community of developers, is there an alternative to the Q&amp;A format you prefer using today or would like to see on Stack Overflow to get what you need? Select all that apply.', 'type': 'MC', 'sub': 'NA', 'sq_id': 'NA'}, {'qid': 'QID77', 'qname': 'SOComm', 'question': 'Do you consider yourself a member of the Stack Overflow community?', 'type': 'MC', 'sub': 'NA', 'sq_id': 'NA'}, {'qid': 'QID97', 'qname': 'SOFriction', 'question': 'When you visit Stack Overflow, how often is it a result of encountering issues from AI or AI-enabled tools that require extra time or effort to fix, understand, or debug?', 'type': 'MC', 'sub': 'NA', 'sq_id': 'NA'}, {'qid': 'QID78', 'qname': 'AISelect', 'question': 'Do you currently use AI tools in your development process?', 'type': 'MC', 'sub': 'NA', 'sq_id': 'NA'}, {'qid': 'QID79', 'qname': 'AISent', 'question': 'How favorable is your stance on using AI tools as part of your development workflow?', 'type': 'MC', 'sub': 'NA', 'sq_id': 'NA'}, {'qid': 'QID80', 'qname': 'AIAcc', 'question': 'How much do you trust the accuracy of the output from AI tools as part of your development workflow?', 'type': 'MC', 'sub': 'NA', 'sq_id': 'NA'}, {'qid': 'QID81', 'qname': 'AIComplex', 'question': 'How well do the AI tools you use in your development workflow handle complex tasks?', 'type': 'MC', 'sub': 'NA', 'sq_id': 'NA'}, {'qid': 'QID82', 'qname': 'AITool', 'question': 'Which parts of your development workflow are you currently integrating into AI or using AI tools to accomplish or plan to use AI to accomplish over the next 3 - 5 years?  Please select one for each scenario.', 'type': 'Matrix', 'sub': 'NA', 'sq_id': 'NA'}, {'qid': 'QID99', 'qname': 'AIFrustration', 'question': 'When using AI tools, which of the following problems or frustrations have you encountered? Select all that apply.', 'type': 'MC', 'sub': 'NA', 'sq_id': 'NA'}, {'qid': 'QID84', 'qname': 'AIExplain', 'question': 'In your own words, is &quot;vibe coding&quot; part of your professional development work? For this question, we define vibe coding according to the <a href=\"https://en.wikipedia.org/wiki/Vibe_coding\" target=\"_blank\">Wikipedia definition</a>, the process of generating software from LLM prompts.', 'type': 'TE', 'sub': 'NA', 'sq_id': 'NA'}, {'qid': 'QID85', 'qname': 'AIAgents', 'question': 'Are you using AI agents in your work (development or otherwise)?  AI agents refer to autonomous software entities that can operate with minimal to no direct human intervention using artificial intelligence techniques.', 'type': 'MC', 'sub': 'NA', 'sq_id': 'NA'}, {'qid': 'QID83', 'qname': 'AIAgentChange', 'question': 'Have AI tools or AI agents changed how you complete development work in the past year?', 'type': 'MC', 'sub': 'NA', 'sq_id': 'NA'}, {'qid': 'QID86', 'qname': 'AIAgent_Uses', 'question': 'What industry purposes or specific tasks are you using AI agents in your development work? Select all that apply from both lists.', 'type': 'MC', 'sub': 'NA', 'sq_id': 'NA'}, {'qid': 'QID106', 'qname': 'AgentUsesGeneral', 'question': ' ', 'type': 'MC', 'sub': 'NA', 'sq_id': 'NA'}, {'qid': 'QID87', 'qname': 'AIAgentImpact', 'question': 'To what extent do you agree with the following statements regarding the impact of AI agents on your work as a developer?', 'type': 'Matrix', 'sub': 'NA', 'sq_id': 'NA'}, {'qid': 'QID88', 'qname': 'AIAgentChallenges', 'question': 'To what extent do you agree with the following statements regarding AI agents?', 'type': 'Matrix', 'sub': 'NA', 'sq_id': 'NA'}, {'qid': 'QID89', 'qname': 'AIAgentKnowledge', 'question': 'You indicated you use or develop AI agents as part of your development work.  Have you used any of the following tools for AI agent memory or data management in the past year?', 'type': 'MC', 'sub': 'NA', 'sq_id': 'NA'}, {'qid': 'QID107', 'qname': 'AIAgentKnowWrite', 'question': 'Was the tool or tools for AI agent orchestration or agent frameworks you used in the past year not listed above?  Please write them below separated by a comma and space if there are more than one.', 'type': 'TE', 'sub': 'NA', 'sq_id': 'NA'}, {'qid': 'QID90', 'qname': 'AIAgentOrchestration', 'question': 'You indicated you use or develop AI agents as part of your development work.  Have you used any of the following tools for AI agent orchestration or agent frameworks in the past year?', 'type': 'MC', 'sub': 'NA', 'sq_id': 'NA'}, {'qid': 'QID102', 'qname': 'AIAgentOrchWrite', 'question': 'Was the tool or tools for AI agent orchestration or agent frameworks you used in the past year not listed above?  Please write them below separated by a comma and space if there are more than one.', 'type': 'TE', 'sub': 'NA', 'sq_id': 'NA'}, {'qid': 'QID91', 'qname': 'AIAgentObserveSecure', 'question': 'You indicated you use or develop AI agents as part of your development work.  Have you used any of the following tools for AI agent observability, monitoring or security in the past year?', 'type': 'MC', 'sub': 'NA', 'sq_id': 'NA'}, {'qid': 'QID103', 'qname': 'AIAgentObsWrite', 'question': 'Was the tool or tools for AI agent observability, monitoring or security you used in the past year not listed above?  Please write them below separated by a comma and space if there are more than one.', 'type': 'TE', 'sub': 'NA', 'sq_id': 'NA'}, {'qid': 'QID92', 'qname': 'AIAgentExternal', 'question': 'You indicated you use or develop AI agents as part of your development work.  Have you used any of the following out-of-the-box agents, copilots or assistants?', 'type': 'MC', 'sub': 'NA', 'sq_id': 'NA'}, {'qid': 'QID104', 'qname': 'AIAgentExtWrite', 'question': 'Was the out-of-the-box agents, copilots or assistants you used in the past year not listed above?  Please write them below separated by a comma and space if there are more than one.', 'type': 'TE', 'sub': 'NA', 'sq_id': 'NA'}, {'qid': 'QID100', 'qname': 'AIHuman', 'question': 'In the future, if AI can do most coding tasks, in which situations would you still want to ask another person for help? Select all that apply.', 'type': 'MC', 'sub': 'NA', 'sq_id': 'NA'}, {'qid': 'QID93', 'qname': 'AIOpen', 'question': 'Looking ahead 3–5 years, what skills do you believe will remain valuable for developers even as AI tools become more capable? Please describe.', 'type': 'TE', 'sub': 'NA', 'sq_id': 'NA'}]\n",
      "49123\n",
      "{'ResponseId': '1', 'MainBranch': 'I am a developer by profession', 'Age': '25-34 years old', 'EdLevel': 'Master’s degree (M.A., M.S., M.Eng., MBA, etc.)', 'Employment': 'Employed', 'EmploymentAddl': 'Caring for dependents (children, elderly, etc.)', 'WorkExp': '8', 'LearnCodeChoose': 'Yes, I am not new to coding but am learning new coding techniques or programming language', 'LearnCode': 'Online Courses or Certification (includes all media types);Other online resources (e.g. standard search, forum, online community)', 'LearnCodeAI': 'Yes, I learned how to use AI-enabled tools for my personal curiosity and/or hobbies', 'AILearnHow': 'AI CodeGen tools or AI-enabled apps', 'YearsCode': '14', 'DevType': 'Developer, mobile', 'OrgSize': '20 to 99 employees', 'ICorPM': 'People manager', 'RemoteWork': 'Remote', 'PurchaseInfluence': 'Yes, I influenced the purchase of a substantial addition to the tech stack', 'TechEndorseIntro': 'Work', 'TechEndorse_1': '10', 'TechEndorse_2': '7', 'TechEndorse_3': '9', 'TechEndorse_4': '6', 'TechEndorse_5': '3', 'TechEndorse_6': '11', 'TechEndorse_7': '12', 'TechEndorse_8': '1', 'TechEndorse_9': '8', 'TechEndorse_13': '14', 'TechEndorse_13_TEXT': 'NA', 'TechOppose_1': '15', 'TechOppose_2': '7', 'TechOppose_3': '8', 'TechOppose_5': '12', 'TechOppose_7': '11', 'TechOppose_9': '1', 'TechOppose_11': '6', 'TechOppose_13': '13', 'TechOppose_16': '3', 'TechOppose_15': '16', 'TechOppose_15_TEXT': 'NA', 'Industry': 'Fintech', 'JobSatPoints_1': '3', 'JobSatPoints_4': '9', 'JobSatPoints_5': '5', 'JobSatPoints_6': '10', 'JobSatPoints_7': '12', 'JobSatPoints_8': '11', 'JobSatPoints_9': '2', 'JobSatPoints_10': '6', 'JobSatPoints_11': '7', 'JobSatPoints_13': '13', 'JobSatPoints_14': '14', 'JobSatPoints_15': '15', 'JobSatPoints_16': '8', 'JobSatPoints_15_TEXT': 'NA', 'AIThreat': \"I'm not sure\", 'NewRole': 'I have neither consider or transitioned into a new career or industry', 'ToolCountWork': '7', 'ToolCountPersonal': '3', 'Country': 'Ukraine', 'Currency': 'EUR European Euro', 'CompTotal': '52800', 'LanguageChoice': 'Yes', 'LanguageHaveWorkedWith': 'Bash/Shell (all shells);Dart;SQL', 'LanguageWantToWorkWith': 'NA', 'LanguageAdmired': 'Dart', 'LanguagesHaveEntry': 'NA', 'LanguagesWantEntry': 'NA', 'DatabaseChoice': 'Yes', 'DatabaseHaveWorkedWith': 'NA', 'DatabaseWantToWorkWith': 'NA', 'DatabaseAdmired': 'NA', 'DatabaseHaveEntry': 'NA', 'DatabaseWantEntry': 'NA', 'PlatformChoice': 'Yes', 'PlatformHaveWorkedWith': 'NA', 'PlatformWantToWorkWith': 'NA', 'PlatformAdmired': 'NA', 'PlatformHaveEntry': 'NA', 'PlatformWantEntry': 'NA', 'WebframeChoice': 'No', 'WebframeHaveWorkedWith': 'NA', 'WebframeWantToWorkWith': 'NA', 'WebframeAdmired': 'NA', 'WebframeHaveEntry': 'NA', 'WebframeWantEntry': 'NA', 'DevEnvsChoice': 'Yes', 'DevEnvsHaveWorkedWith': 'NA', 'DevEnvsWantToWorkWith': 'NA', 'DevEnvsAdmired': 'NA', 'DevEnvHaveEntry': 'NA', 'DevEnvWantEntry': 'NA', 'SOTagsHaveWorkedWith': 'NA', 'SOTagsWantToWorkWith': 'NA', 'SOTagsAdmired': 'NA', 'SOTagsHaveEntry': 'NA', 'SOTagsWant Entry': 'NA', 'OpSysPersonal use': 'Windows;MacOS;Android', 'OpSysProfessional use': 'Windows;MacOS;Android;iOS;iPadOS', 'OfficeStackAsyncHaveWorkedWith': 'NA', 'OfficeStackAsyncWantToWorkWith': 'NA', 'OfficeStackAsyncAdmired': 'Markdown File', 'OfficeStackHaveEntry': 'NA', 'OfficeStackWantEntry': 'NA', 'CommPlatformHaveWorkedWith': 'NA', 'CommPlatformWantToWorkWith': 'NA', 'CommPlatformAdmired': 'NA', 'CommPlatformHaveEntr': 'NA', 'CommPlatformWantEntr': 'NA', 'AIModelsChoice': 'Yes', 'AIModelsHaveWorkedWith': 'NA', 'AIModelsWantToWorkWith': 'NA', 'AIModelsAdmired': 'NA', 'AIModelsHaveEntry': 'NA', 'AIModelsWantEntry': 'NA', 'SOAccount': 'Yes', 'SOVisitFreq': 'A few times per week', 'SODuration': 'Between 5 and 10 years', 'SOPartFreq': 'I have never participated in Q&A on Stack Overflow', 'SO_Dev_Content': 'NA', 'SO_Actions_1': '1', 'SO_Actions_16': 'NA', 'SO_Actions_3': '6', 'SO_Actions_4': '2', 'SO_Actions_5': '3', 'SO_Actions_6': '7', 'SO_Actions_9': '8', 'SO_Actions_7': '9', 'SO_Actions_10': '11', 'SO_Actions_15': '15', 'SO_Actions_15_TEXT': 'NA', 'SOComm': 'Neutral', 'SOFriction': 'Rarely, almost never', 'AISelect': 'Yes, I use AI tools monthly or infrequently', 'AISent': 'Indifferent', 'AIAcc': 'Neither trust nor distrust', 'AIComplex': 'Bad at handling complex tasks', 'AIToolCurrently partially AI': 'Learning about a codebase;Writing code;Search for answers', \"AIToolDon't plan to use AI for this task\": 'Project planning;Deployment and monitoring;Learning new concepts or technologies', 'AIToolPlan to partially use AI': 'Documenting code;Debugging or fixing code;Testing code;Committing and reviewing code;Predictive analytics;Generating content or synthetic data;Creating or maintaining documentation', 'AIToolPlan to mostly use AI': 'NA', 'AIToolCurrently mostly AI': 'NA', 'AIFrustration': 'AI solutions that are almost right, but not quite', 'AIExplain': 'NA', 'AIAgents': 'Yes, I use AI agents at work monthly or infrequently', 'AIAgentChange': 'Not at all or minimally', 'AIAgent_Uses': 'Software engineering', 'AgentUsesGeneral': 'NA', 'AIAgentImpactSomewhat agree': 'AI agents have increased my productivity.;AI agents have reduced the time spent on specific development tasks.', 'AIAgentImpactNeutral': 'AI agents have helped me automate repetitive tasks.;AI agents have improved the quality of my code.;AI agents have accelerated my learning about new technologies or codebases.;AI agents have helped me solve complex problems more effectively.;AI agents have improved collaboration within my team.', 'AIAgentImpactSomewhat disagree': 'NA', 'AIAgentImpactStrongly agree': 'NA', 'AIAgentImpactStrongly disagree': 'NA', 'AIAgentChallengesNeutral': 'I am concerned about the accuracy of the information provided by AI agents.;It takes significant time and effort to learn how to use AI agents effectively.', 'AIAgentChallengesSomewhat disagree': \"Integrating AI agents with my existing tools and workflows can be difficult.;My company's IT and/or InfoSec teams have strict rules that do not allow me to use AI agent tools or platforms\", 'AIAgentChallengesStrongly agree': 'The cost of using certain AI agent platforms is a barrier.;I have concerns about the security and privacy of data when using AI agents.', 'AIAgentChallengesSomewhat agree': 'NA', 'AIAgentChallengesStrongly disagree': 'NA', 'AIAgentKnowledge': 'NA', 'AIAgentKnowWrite': 'NA', 'AIAgentOrchestration': 'Vertex AI', 'AIAgentOrchWrite': 'NA', 'AIAgentObserveSecure': 'NA', 'AIAgentObsWrite': 'NA', 'AIAgentExternal': 'ChatGPT', 'AIAgentExtWrite': 'NA', 'AIHuman': 'When I don’t trust AI’s answers', 'AIOpen': 'NA', 'ConvertedCompYearly': '61256', 'JobSat': '10'}\n"
     ]
    }
   ],
   "source": [
    "print(reader.get_schema())\n",
    "\n",
    "print(len(reader.get_data()))\n",
    "\n",
    "print(reader.get_data()[0]) # Be careful when trying to output the data, there's lots of it!"
   ]
  },
  {
   "cell_type": "markdown",
   "metadata": {},
   "source": [
    "## Questions"
   ]
  },
  {
   "cell_type": "markdown",
   "metadata": {},
   "source": [
    "1. Print all of the questions asked in the developer survey"
   ]
  },
  {
   "cell_type": "code",
   "execution_count": 17,
   "metadata": {},
   "outputs": [
    {
     "name": "stdout",
     "output_type": "stream",
     "text": [
      "Did you spend time in the last year learning AI programming or AI-enabled tooling on your own or at work?\n",
      "Where do you live?\n",
      "Was the community platform you want to use not listed above?  List below, separated by a comma and a space for each, what you used in the past year.\n",
      "How many years of professional work experience do you have? Please round to the nearest whole number, excluding any decimal points.  If your answer is '0', please leave blank.\n",
      "Which <strong>development environments and AI-enabled code editing tools</strong> did you use regularly over the past year, and which do you want to work with over the next year? Please check all that apply.\n",
      "Was the programming language you use not listed above?  List below, separated by a comma and a space for each, the programming language(s) <strong>you used in the past year</strong>.\n",
      "Was the programming language you want to use not listed above? List below, separated by a comma and a space for each, the programming language(s) <strong>you want to use next year</strong>.\n",
      "Was the LLM model for AI tools you want to use not listed above?  List below, separated by a comma and a space for each, what <strong>you want to use next year</strong>.\n",
      "Was the tool or tools for AI agent orchestration or agent frameworks you used in the past year not listed above?  Please write them below separated by a comma and space if there are more than one.\n",
      "Which of the following <strong>additional</strong> activities are you currently engaged in?\n",
      "You indicated you use or develop AI agents as part of your development work.  Have you used any of the following tools for AI agent orchestration or agent frameworks in the past year?\n",
      "Was the tool or tools for AI agent orchestration or agent frameworks you used in the past year not listed above?  Please write them below separated by a comma and space if there are more than one.\n",
      "Did you work with web frameworks and web technologies in the last year or do you plan to in the year to come?  Here, we are referring to technology that helps website and web apps materialize.\n",
      "What is your age?\n",
      "What industry do you work for in?\n",
      "Did you work with cloud platforms, containerization/orchestration tools, package managers, build tools or infrastructure as code solutions in the last year or do you plan to in the year to come?  Here, we are referring to tooling that automates, manages, and scales the entire application lifecycle, often leveraging remote, virtualized resources.\n",
      "Have AI tools or AI agents changed how you complete development work in the past year?\n",
      "Which of the following best describes your current employment status?<br>\n",
      " \n",
      "Which <b>LLM models for AI tools</b> have you used for development work in the past year, and which would you like to use next year?  Select all that apply.\n",
      "Including any education, how many years have you been coding in total?  Please round to the nearest whole number, excluding any decimal points.\n",
      "Was the collaborative work management and/or code documentation tools you want to use not listed above?  List below, separated by a comma and a space for each, what you used in the past year.\n",
      "When you visit Stack Overflow, how often is it a result of encountering issues from AI or AI-enabled tools that require extra time or effort to fix, understand, or debug?\n",
      "Approximately how many people are employed by your employer?  This should only include your primary company, and if there was more than one employer please consider the one you spent most of your time working for in the past year.\n",
      "Which currency do you use day-to-day? If your answer is complicated, please pick the one you're most comfortable estimating in.\n",
      "Did you utilize or integrate specific Large Language Models (LLMs) to power your development tools or applications in the last year?  Here, we are referring to models like GPT-4, Llama, Claude, etc., within your development environments or solutions.\n",
      "Were the web frameworks and web technologies you use not listed above?  List below, separated by a comma and a space for each, what <strong>you used in the past year</strong>.\n",
      "In your own words, is &quot;vibe coding&quot; part of your professional development work? For this question, we define vibe coding according to the <a href=\"https://en.wikipedia.org/wiki/Vibe_coding\" target=\"_blank\">Wikipedia definition</a>, the process of generating software from LLM prompts.\n",
      "When using AI tools, which of the following problems or frustrations have you encountered? Select all that apply.\n",
      "To what extent do you agree with the following statements regarding AI agents?\n",
      "Was the cloud platforms, containerization/orchestration tools, package managers, build tools, and infrastructure as code solutions you use not listed above?  List below, separated by a comma and a space for each, what <strong>you used in the past year</strong>.\n",
      "Was the collaborative work management and/or code documentation tools you use not listed above?  List below, separated by a comma and a space for each, what you used in the past year.\n",
      "How frequently would you say you participate in Q&amp;A on Stack Overflow? By participate we mean ask, answer, and vote or comment on questions.\n",
      "Looking ahead 3–5 years, what skills do you believe will remain valuable for developers even as AI tools become more capable? Please describe.\n",
      "Was the developer environment or AI-enabled code editing tool you use not listed above?  List below, separated by a comma and a space for each, what<strong> you used in the past year</strong>.\n",
      "Which of the following best describes the highest level of formal education that you’ve completed? \n",
      "Was the tool or tools for AI agent observability, monitoring or security you used in the past year not listed above?  Please write them below separated by a comma and space if there are more than one.\n",
      "Which of the following describes your current job or the job you had for the most time in the past year?\n",
      "What would turn you off or cause you to reject it (most to least important)?\n",
      "Which <b>community platforms</b> have you utilized considerably or consistently in the past year, and which would you like to use next year?  Select all that apply.\n",
      "Which <b>programming, scripting, and markup languages</b> have you done extensive development work in over the past year, and which do you want to work in over the next year? (If you both worked with the language and want to continue to do so, please check both boxes in that row.)\n",
      "Did you begin learning to code or learn a new coding skill/programming language in the last year?\n",
      "Have you considered a career change or transitioned into a new role in the past year?\n",
      "Was the database environment you want to use not listed above? List below, separated by a comma and a space for each, what <strong>you want to use next year</strong>.\n",
      "How did you learn to code for AI in the past year? Select all that apply.\n",
      "Was the community platform you use not listed above?  List below, separated by a comma and a space for each, what you used in the past year.\n",
      "Was the cloud platforms, containerization/orchestration tools, package managers, build tools, and infrastructure as code solutions you want to use not listed above?  List below, separated by a comma and a space for each, what<strong>you want to use next year</strong>.\n",
      "You indicated you use or develop AI agents as part of your development work.  Have you used any of the following tools for AI agent observability, monitoring or security in the past year?\n",
      "Have you <strong>influenced or endorsed</strong> a new technology purchase at your organization or sole proprietor job in the past year?\n",
      "Did you work with database environments in the last year or do you plan to in the year to come?  Here, we are referring to a system of managing structured data, mostly outside of your local machine.\n",
      "You indicated you use or develop AI agents as part of your development work.  Have you used any of the following tools for AI agent memory or data management in the past year?\n",
      "Did you work with development environments or AI-enabled code editing tools in the last year or do you plan to in the year to come?  Here, we are referring to programs like VS Code that allow you to write, edit and save code easily and help you share code with other developers or AI agents.\n",
      "<b></b>For your <b>side projects or other personal work</b> over the past year (focus on the project you spent the most time on if applicable):\n",
      "<br><br>Excluding general operating systems and web browsers, how many <b>distinct software applications or platforms</b> did you regularly use to do your job? Please enter a whole number below with no punctuation, or leave blank.\n",
      "To what extent do you agree with the following statements regarding the impact of AI agents on your work as a developer?\n",
      "Which <b>cloud platforms, containerization/orchestration tools, package managers, build tools, and infrastructure as code solutions</b> have you done extensive development work in over the past year, and which do you want to work in over the next year? (If you both worked with the platform and want to continue to do so, please check both boxes in that row.)\n",
      "How did you learn to code in the past year? Select all that apply.\n",
      "Were the web frameworks and web technologies you want to use not listed above?  List below, separated by a comma and a space for each, the what <strong>you want to use next year</strong>.\n",
      "Which <b>collaborative work management and/or code documentation tools</b> did you use regularly over the past year, and which do you want to work with over the next year? Select all that apply\n",
      "How long have you used Stack Overflow?\n",
      "In the future, if AI can do most coding tasks, in which situations would you still want to ask another person for help? Select all that apply.\n",
      "Do you believe AI is a threat to your current job?\n",
      "Do you currently use AI tools in your development process?\n",
      "What industry purposes or specific tasks are you using AI agents in your development work? Select all that apply from both lists.\n",
      "Which rising technology of the added as <b>new tag or tag subject area on Stack Overflow</b> in the last three years <strong>have you used</strong> regularly in the past year, and which do you <strong>want to work with</strong> over the next year? Please check all that apply.<br>\n",
      " \n",
      "Are you someone who writes code? Please select one of the following options that best describes you today.\n",
      "Which best describes your current work situation?\n",
      "Which <b>web frameworks and web technologies</b> have you done extensive development work in over the past year, and which do you want to work in over the next year? (If you both worked with the framework and want to continue to do so, please check both boxes in that row.)\n",
      "When visiting Stack Overflow, which following activities are you most interested in?  Please rank the following so the first activity is what most interests you and last is your least interested activity.\n",
      "Did you work with programming, scripting and markup languages in the last year or do you plan to in the year to come?  Here, we are referring to anything you use that is conventionally referred to as code.\n",
      "How favorable is your stance on using AI tools as part of your development workflow?\n",
      "Was the developer environment or AI-enabled code editing tool you want to use not listed above?  List below, separated by a comma and a space for each, what <strong>you want to use next year</strong>.\n",
      "How much do you trust the accuracy of the output from AI tools as part of your development workflow?\n",
      "Was the LLM model for AI tools you use not listed above?  List below, separated by a comma and a space for each, what <strong>you used in the past year</strong>.\n",
      "Are you an individual contributor or people manager?\n",
      "How satisfied are you in your current professional developer role?\n",
      "Which parts of your development workflow are you currently integrating into AI or using AI tools to accomplish or plan to use AI to accomplish over the next 3 - 5 years?  Please select one for each scenario.\n",
      "Rank the following attributes of your current professional job in technology according to those that contribute your job satisfaction so that the first is the most important, last is least important (if you just started a new job, consider the job you spent the most time at in the past year):\n",
      "What is your current total <b>annual</b> compensation (salary, bonuses, and perks, before taxes and deductions) in terms of your day-to-day currency?  Please enter a whole number in the box below, without any punctuation.  If you are paid hourly, please estimate an equivalent yearly salary. If you prefer not to answer, please leave the box empty. \n",
      "Was the out-of-the-box agents, copilots or assistants you used in the past year not listed above?  Please write them below separated by a comma and space if there are more than one.\n",
      "Which <b>database environments </b>have you done extensive development work in over the past year, and which do you want to work in over the next year? (If you both worked with the database and want to continue to do so, please check both boxes in that row.)\n",
      "Was the new tag on Stack Overflow (i.e. added in the last 2 - 3 years) you want to use not listed above?  List below, separated by a comma and a space for each, what <strong>you want to use next year</strong>.\n",
      "Do you have a Stack Overflow account?\n",
      "You indicated you use or develop AI agents as part of your development work.  Have you used any of the following out-of-the-box agents, copilots or assistants?\n",
      "Whether it be to solve a problem, for career growth or connecting with a community of developers, is there an alternative to the Q&amp;A format you prefer using today or would like to see on Stack Overflow to get what you need? Select all that apply.\n",
      "What attracts you to a technology or causes you to endorse it (most to least important)?\n",
      "Was the database environment you use not listed above?  List below, separated by a comma and a space for each, what <strong>you used in the past year</strong>.\n",
      "For your <b>primary work role</b> (student, developer, or technologist) over the past year:\n",
      "<br><br>Excluding general operating systems (like Windows or macOS) and web browsers, <b>how many distinct software applications or platforms</b> did you regularly use to create, analyze, manage, or share information in order to do your job?\n",
      "\n",
      "Please enter a whole number below with no punctuation, or leave blank.\n",
      "What is the primary <b>operating system</b> in which you work? \n",
      "How frequently would you say you visit Stack Overflow?\n",
      "Was the new tag on Stack Overflow (i.e. added in the last 2 - 3 years) you use not listed above?  List below, separated by a comma and a space for each, what <strong>you used in the past year</strong>.\n",
      "Do you consider yourself a member of the Stack Overflow community?\n",
      "Are you using AI agents in your work (development or otherwise)?  AI agents refer to autonomous software entities that can operate with minimal to no direct human intervention using artificial intelligence techniques.\n",
      "When you&rsquo;re in a position to <strong>influence or endorse a technology</strong>, whether at work, for school, or for a personal project you&rsquo;re responsible for, what features or attributes matter most when deciding to support a tool? What factors would be deal-breakers?<br />\n",
      "<br />\n",
      "First, select the context (work, school, personal project).  Then, rank the following features in order of importance.​​​​​​\n",
      "How well do the AI tools you use in your development workflow handle complex tasks?\n"
     ]
    }
   ],
   "source": [
    "unique_qids = {row[\"qid\"] for row in reader.get_schema()}\n",
    "for qid in unique_qids:\n",
    "    print(reader.get_question_by_id(qid)['question'])"
   ]
  },
  {
   "cell_type": "markdown",
   "metadata": {},
   "source": [
    "2. Which age range has the most responses in the survey?"
   ]
  },
  {
   "cell_type": "code",
   "execution_count": 55,
   "metadata": {},
   "outputs": [
    {
     "name": "stdout",
     "output_type": "stream",
     "text": [
      "Most response age range: 25-34 years old\n"
     ]
    }
   ],
   "source": [
    "df = pd.DataFrame(reader.get_data())\n",
    "\n",
    "most_common_age = df['Age'].value_counts().idxmax()\n",
    "\n",
    "print(f\"Most response age range: {most_common_age}\")"
   ]
  },
  {
   "cell_type": "markdown",
   "metadata": {},
   "source": [
    "3. How many survey respondents do we know definitely work for a company larger than Marshall Wace? (Feel free to ask one of us if you don't know how large Marshall Wace is!)"
   ]
  },
  {
   "cell_type": "code",
   "execution_count": 58,
   "metadata": {},
   "outputs": [
    {
     "name": "stdout",
     "output_type": "stream",
     "text": [
      "10715\n"
     ]
    }
   ],
   "source": [
    "#Marshall Wace has 797 employees\n",
    "largeCompanys = ['1,000 to 4,999 employees', '5,000 to 9,999 employees', '10,000 or more employees']\n",
    "\n",
    "total = df['OrgSize'].isin(largeCompanys).sum()\n",
    "print(total)"
   ]
  },
  {
   "cell_type": "markdown",
   "metadata": {},
   "source": [
    "4. How many survey respondents had less than 1 year of coding experience before (or outside of) coding for their profession?"
   ]
  },
  {
   "cell_type": "code",
   "execution_count": null,
   "metadata": {},
   "outputs": [
    {
     "name": "stdout",
     "output_type": "stream",
     "text": [
      "11390\n"
     ]
    }
   ],
   "source": [
    "# Assume NA in YearsCode means less than a year of coding experience\n",
    "# less than 1 year of coding experience outside of coding for profession = same number in YearsCode and WorkExp\n",
    "\n",
    "df['YearsCode'] = pd.to_numeric(df['YearsCode'], errors='coerce')\n",
    "df['WorkExp'] = pd.to_numeric(df['WorkExp'], errors='coerce')\n",
    "\n",
    "total = (df['YearsCode'].isna() | \n",
    "         ((~df['WorkExp'].isna()) & ((df['YearsCode'] - df['WorkExp']) == 0))).sum()\n",
    "\n",
    "print(total)"
   ]
  },
  {
   "cell_type": "markdown",
   "metadata": {},
   "source": [
    "5. Of the people who had 1 or more years of coding experience outside of coding professionally, what is the average number of years they spent coding outside of work? For simplicity, you can consider only the people who have given an exact number of years they have spent coding in both columns (i.e. excluding those with over 50 or less than 1 year)"
   ]
  },
  {
   "cell_type": "code",
   "execution_count": 69,
   "metadata": {},
   "outputs": [
    {
     "name": "stdout",
     "output_type": "stream",
     "text": [
      "Average year of coding outside of work is 5.9135\n"
     ]
    }
   ],
   "source": [
    "mask = df['YearsCode'].notna() & df['WorkExp'].notna() & (df['YearsCode'] > df['WorkExp'])\n",
    "avg_years = (df.loc[mask, 'YearsCode'] - df.loc[mask, 'WorkExp']).mean()\n",
    "\n",
    "print(f\"Average year of coding outside of work is {avg_years:.4f}\")"
   ]
  },
  {
   "cell_type": "markdown",
   "metadata": {},
   "source": [
    "6. What is the median annual total compensation of those who specified their compensation in USD"
   ]
  },
  {
   "cell_type": "code",
   "execution_count": 77,
   "metadata": {},
   "outputs": [
    {
     "name": "stdout",
     "output_type": "stream",
     "text": [
      "Median total compensation in usd is $130,000\n"
     ]
    }
   ],
   "source": [
    "df['CompTotal'] = pd.to_numeric(df['CompTotal'], errors='coerce')\n",
    "\n",
    "mask = df['Currency'] == 'USD United States dollar'\n",
    "median_tc = df.loc[mask, 'CompTotal'].median()\n",
    "print(f\"Median total compensation in usd is ${median_tc:,.0f}\")\n"
   ]
  },
  {
   "cell_type": "markdown",
   "metadata": {},
   "source": [
    "7. Which programming language has respondents with the highest annual compensation in USD? If a response lists multiple languages, you can attribute the compensation to each language in the response."
   ]
  },
  {
   "cell_type": "code",
   "execution_count": 80,
   "metadata": {},
   "outputs": [
    {
     "name": "stdout",
     "output_type": "stream",
     "text": [
      "The highest median total compensation in USD grouped by language is Scala: $180,000\n"
     ]
    }
   ],
   "source": [
    "usd_df = df[df['Currency'] == 'USD United States dollar'].copy()\n",
    "\n",
    "lang_df = (usd_df.assign(Language=usd_df['LanguageHaveWorkedWith'].str.split(';')).explode('Language'))\n",
    "\n",
    "median_comp = (lang_df.groupby('Language')['CompTotal'].median())\n",
    "\n",
    "top_lang = median_comp.idxmax()\n",
    "top_salary = median_comp.max()\n",
    "\n",
    "print(f\"The highest median total compensation in USD grouped by language is {top_lang}: ${top_salary:,.0f}\")"
   ]
  },
  {
   "cell_type": "markdown",
   "metadata": {},
   "source": [
    "## Bonus Task: SurveyDataReader\n",
    "\n",
    "`SurveyDataReader` is a basic class that allows you to access the underlying survey data programmatically. The class is implemented with basic data structures and no external dependencies hence there is plenty of room for optimisation. Try to improve the speed of basic operations and add some of your own by potentially leveraging a package such as [NumPy](https://numpy.org/)."
   ]
  }
 ],
 "metadata": {
  "kernelspec": {
   "display_name": "venv",
   "language": "python",
   "name": "python3"
  },
  "language_info": {
   "codemirror_mode": {
    "name": "ipython",
    "version": 3
   },
   "file_extension": ".py",
   "mimetype": "text/x-python",
   "name": "python",
   "nbconvert_exporter": "python",
   "pygments_lexer": "ipython3",
   "version": "3.11.12"
  }
 },
 "nbformat": 4,
 "nbformat_minor": 4
}
